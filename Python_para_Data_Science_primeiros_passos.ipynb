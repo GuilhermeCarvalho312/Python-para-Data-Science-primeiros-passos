{
  "nbformat": 4,
  "nbformat_minor": 0,
  "metadata": {
    "colab": {
      "name": "Python para Data Science: primeiros passos",
      "provenance": [],
      "authorship_tag": "ABX9TyOk28YjmNTm842OV50CmYOB",
      "include_colab_link": true
    },
    "kernelspec": {
      "name": "python3",
      "display_name": "Python 3"
    },
    "language_info": {
      "name": "python"
    }
  },
  "cells": [
    {
      "cell_type": "markdown",
      "metadata": {
        "id": "view-in-github",
        "colab_type": "text"
      },
      "source": [
        "<a href=\"https://colab.research.google.com/github/GuilhermeCarvalho312/Python-para-Data-Science-primeiros-passos/blob/main/Python_para_Data_Science_primeiros_passos.ipynb\" target=\"_parent\"><img src=\"https://colab.research.google.com/assets/colab-badge.svg\" alt=\"Open In Colab\"/></a>"
      ]
    },
    {
      "cell_type": "markdown",
      "source": [
        "## AULA - 1"
      ],
      "metadata": {
        "id": "mj9At9XIfixD"
      }
    },
    {
      "cell_type": "code",
      "source": [
        "nome = 'Guilherme'\n",
        "idade = 20\n",
        "print(f'Meu nome é {nome} e eu tenho {idade} anos') #o f na frente serve pra conseguir colocar variavéis no meio."
      ],
      "metadata": {
        "colab": {
          "base_uri": "https://localhost:8080/"
        },
        "id": "q_iSiBgTgJ8n",
        "outputId": "b97f6022-a93f-49b5-9f59-28d462d016a4"
      },
      "execution_count": 7,
      "outputs": [
        {
          "output_type": "stream",
          "name": "stdout",
          "text": [
            "Meu nome é Guilherme e eu tenho 20 anos\n"
          ]
        }
      ]
    },
    {
      "cell_type": "code",
      "source": [
        "def soma_numeros(a,b):\n",
        "  soma = a+b\n",
        "  return soma"
      ],
      "metadata": {
        "id": "KvRC-2IWhAZm"
      },
      "execution_count": 8,
      "outputs": []
    },
    {
      "cell_type": "code",
      "source": [
        "soma_numeros(2,3)"
      ],
      "metadata": {
        "colab": {
          "base_uri": "https://localhost:8080/"
        },
        "id": "8ywjo5WXhR5G",
        "outputId": "7553821c-b751-44f6-e3e4-26ef485e8a19"
      },
      "execution_count": 9,
      "outputs": [
        {
          "output_type": "execute_result",
          "data": {
            "text/plain": [
              "5"
            ]
          },
          "metadata": {},
          "execution_count": 9
        }
      ]
    },
    {
      "cell_type": "code",
      "source": [
        "def nome_completo():\n",
        " primeiro_nome = input('Qual seu primeiro nome? ')\n",
        " sobrenome = input('Qual seu sobrenome? ')\n",
        " nome_inteiro = primeiro_nome + ' ' + sobrenome\n",
        " print(nome_inteiro)\n",
        "\n",
        "nome_completo()"
      ],
      "metadata": {
        "colab": {
          "base_uri": "https://localhost:8080/"
        },
        "id": "0QZP3wBvjCTB",
        "outputId": "4ff34f97-4fee-4a3e-dc4c-f55be2ea8cd5"
      },
      "execution_count": 10,
      "outputs": [
        {
          "output_type": "stream",
          "name": "stdout",
          "text": [
            "Qual seu primeiro nome? Guilherme\n",
            "Qual seu sobrenome? Augusto\n",
            "Guilherme Augusto\n"
          ]
        }
      ]
    },
    {
      "cell_type": "markdown",
      "source": [
        "Resumo aula 1:\n",
        "* Aprendemos o que são variáveis;\n",
        "* Criamos nossa primeira função;\n",
        "* Entendemos a diferença entre linguagens de alto e baixo nível."
      ],
      "metadata": {
        "id": "VNLtPc8Lj1EG"
      }
    },
    {
      "cell_type": "markdown",
      "source": [
        "# AULA - 2"
      ],
      "metadata": {
        "id": "MfLQU7-njwpe"
      }
    },
    {
      "cell_type": "code",
      "source": [
        "idade = 10\n",
        "\n",
        "def verifica_se_pode_dirigir(idade):\n",
        "  if idade >= 18:\n",
        "    print('Tem permissão para dirigir')\n",
        "  else:\n",
        "    print('Não tem permissão para dirigir')\n",
        "\n",
        "verifica_se_pode_dirigir(idade)"
      ],
      "metadata": {
        "colab": {
          "base_uri": "https://localhost:8080/"
        },
        "id": "jtjqHjAGjz7e",
        "outputId": "cf3638d5-6c41-4a8e-ecbf-373d95c52061"
      },
      "execution_count": 11,
      "outputs": [
        {
          "output_type": "stream",
          "name": "stdout",
          "text": [
            "Não tem permissão para dirigir\n"
          ]
        }
      ]
    },
    {
      "cell_type": "code",
      "source": [
        "def verifica_se_pode_dirigir_sem_parametros():\n",
        "  idade = input('Qual sua idade? ')\n",
        "  idade = int(idade)\n",
        "  if idade >= 18:\n",
        "    print('Tem permissão para dirigir')\n",
        "  else:\n",
        "    print('Não tem permissão para dirigir')\n",
        "\n",
        "verifica_se_pode_dirigir_sem_parametros()"
      ],
      "metadata": {
        "colab": {
          "base_uri": "https://localhost:8080/"
        },
        "id": "PQPYxBW6tIXm",
        "outputId": "470d4369-9f1e-4a59-e540-991c1e0f0f39"
      },
      "execution_count": 12,
      "outputs": [
        {
          "output_type": "stream",
          "name": "stdout",
          "text": [
            "Qual sua idade? 20\n",
            "Tem permissão para dirigir\n"
          ]
        }
      ]
    },
    {
      "cell_type": "markdown",
      "source": [
        "Resumo aula 2:\n",
        "* Criamos uma função que recebe um parâmetro;\n",
        "* Aprendemos a usar as condicionais if e else;\n",
        "* Convertemos a string (str) digitando através do teclado em um valor inteiro (int)."
      ],
      "metadata": {
        "id": "uPQpUrsYtXwV"
      }
    }
  ]
}