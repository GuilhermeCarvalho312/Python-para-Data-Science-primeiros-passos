{
  "nbformat": 4,
  "nbformat_minor": 0,
  "metadata": {
    "colab": {
      "name": "Python para Data Science: primeiros passos",
      "provenance": [],
      "authorship_tag": "ABX9TyNVizOJmVuXKL6Ezhg1+v2L",
      "include_colab_link": true
    },
    "kernelspec": {
      "name": "python3",
      "display_name": "Python 3"
    },
    "language_info": {
      "name": "python"
    }
  },
  "cells": [
    {
      "cell_type": "markdown",
      "metadata": {
        "id": "view-in-github",
        "colab_type": "text"
      },
      "source": [
        "<a href=\"https://colab.research.google.com/github/GuilhermeCarvalho312/Python-para-Data-Science-primeiros-passos/blob/main/Python_para_Data_Science_primeiros_passos.ipynb\" target=\"_parent\"><img src=\"https://colab.research.google.com/assets/colab-badge.svg\" alt=\"Open In Colab\"/></a>"
      ]
    },
    {
      "cell_type": "markdown",
      "source": [
        "## AULA - 1"
      ],
      "metadata": {
        "id": "mj9At9XIfixD"
      }
    },
    {
      "cell_type": "code",
      "source": [
        "nome = 'Guilherme'\n",
        "idade = 20\n",
        "print(f'Meu nome é {nome} e eu tenho {idade} anos') #o f na frente serve pra conseguir colocar variavéis no meio."
      ],
      "metadata": {
        "colab": {
          "base_uri": "https://localhost:8080/"
        },
        "id": "q_iSiBgTgJ8n",
        "outputId": "01fd522f-b7b2-4608-b7bf-7575d3dafe5a"
      },
      "execution_count": 2,
      "outputs": [
        {
          "output_type": "stream",
          "name": "stdout",
          "text": [
            "Meu nome é Guilherme e eu tenho 20 anos\n"
          ]
        }
      ]
    },
    {
      "cell_type": "code",
      "source": [
        "def soma_numeros(a,b):\n",
        "  soma = a+b\n",
        "  return soma"
      ],
      "metadata": {
        "id": "KvRC-2IWhAZm"
      },
      "execution_count": 3,
      "outputs": []
    },
    {
      "cell_type": "code",
      "source": [
        "soma_numeros(2,3)"
      ],
      "metadata": {
        "colab": {
          "base_uri": "https://localhost:8080/"
        },
        "id": "8ywjo5WXhR5G",
        "outputId": "dad53ae4-e386-4c9a-8240-15b46479ef29"
      },
      "execution_count": 4,
      "outputs": [
        {
          "output_type": "execute_result",
          "data": {
            "text/plain": [
              "5"
            ]
          },
          "metadata": {},
          "execution_count": 4
        }
      ]
    },
    {
      "cell_type": "code",
      "source": [
        "def nome_completo():\n",
        " primeiro_nome = input('Qual seu primeiro nome? ')\n",
        " sobrenome = input('Qual seu sobrenome? ')\n",
        " nome_inteiro = primeiro_nome + ' ' + sobrenome\n",
        " print(nome_inteiro)\n",
        "\n",
        "nome_completo()"
      ],
      "metadata": {
        "colab": {
          "base_uri": "https://localhost:8080/"
        },
        "id": "0QZP3wBvjCTB",
        "outputId": "5d4d3106-d7d8-4716-fbae-820d9f28243f"
      },
      "execution_count": 5,
      "outputs": [
        {
          "output_type": "stream",
          "name": "stdout",
          "text": [
            "Qual seu primeiro nome? Guilherme\n",
            "Qual seu sobrenome? Carvalho\n",
            "Guilherme Carvalho\n"
          ]
        }
      ]
    },
    {
      "cell_type": "markdown",
      "source": [
        "Resumo aula 1:\n",
        "* Aprendemos o que são variáveis;\n",
        "* Criamos nossa primeira função;\n",
        "* Entendemos a diferença entre linguagens de alto e baixo nível."
      ],
      "metadata": {
        "id": "VNLtPc8Lj1EG"
      }
    },
    {
      "cell_type": "markdown",
      "source": [
        "# AULA - 2"
      ],
      "metadata": {
        "id": "MfLQU7-njwpe"
      }
    },
    {
      "cell_type": "code",
      "source": [
        "idade = 10\n",
        "\n",
        "def verifica_se_pode_dirigir(idade):\n",
        "  if idade >= 18:\n",
        "    print('Tem permissão para dirigir')\n",
        "  else:\n",
        "    print('Não tem permissão para dirigir')\n",
        "\n",
        "verifica_se_pode_dirigir(idade)"
      ],
      "metadata": {
        "colab": {
          "base_uri": "https://localhost:8080/"
        },
        "id": "jtjqHjAGjz7e",
        "outputId": "349627d9-fccc-4aad-8af7-2c6e0fd5029a"
      },
      "execution_count": 6,
      "outputs": [
        {
          "output_type": "stream",
          "name": "stdout",
          "text": [
            "Não tem permissão para dirigir\n"
          ]
        }
      ]
    },
    {
      "cell_type": "code",
      "source": [
        "def verifica_se_pode_dirigir_sem_parametros():\n",
        "  idade = input('Qual sua idade? ')\n",
        "  idade = int(idade)\n",
        "  if idade >= 18:\n",
        "    print('Tem permissão para dirigir')\n",
        "  else:\n",
        "    print('Não tem permissão para dirigir')\n",
        "\n",
        "verifica_se_pode_dirigir_sem_parametros()"
      ],
      "metadata": {
        "colab": {
          "base_uri": "https://localhost:8080/"
        },
        "id": "PQPYxBW6tIXm",
        "outputId": "5ebeaddd-260c-4cb7-a8cf-a58a058ece4a"
      },
      "execution_count": 7,
      "outputs": [
        {
          "output_type": "stream",
          "name": "stdout",
          "text": [
            "Qual sua idade? 20\n",
            "Tem permissão para dirigir\n"
          ]
        }
      ]
    },
    {
      "cell_type": "markdown",
      "source": [
        "Resumo aula 2:\n",
        "* Criamos uma função que recebe um parâmetro;\n",
        "* Aprendemos a usar as condicionais if e else;\n",
        "* Convertemos a string (str) digitando através do teclado em um valor inteiro (int)."
      ],
      "metadata": {
        "id": "uPQpUrsYtXwV"
      }
    },
    {
      "cell_type": "markdown",
      "source": [
        "# AULA - 3\n"
      ],
      "metadata": {
        "id": "tIw2prH5t67Y"
      }
    },
    {
      "cell_type": "markdown",
      "source": [
        "## Listas"
      ],
      "metadata": {
        "id": "UNlw4qaGv3Ih"
      }
    },
    {
      "cell_type": "code",
      "source": [
        "idade = 23\n",
        "type(idade)"
      ],
      "metadata": {
        "id": "c8lXYmgOuBYy",
        "outputId": "f9e83c2d-2459-42e1-a8d8-2987c7f919e3",
        "colab": {
          "base_uri": "https://localhost:8080/"
        }
      },
      "execution_count": 9,
      "outputs": [
        {
          "output_type": "execute_result",
          "data": {
            "text/plain": [
              "int"
            ]
          },
          "metadata": {},
          "execution_count": 9
        }
      ]
    },
    {
      "cell_type": "code",
      "source": [
        "idades = [12,15,17,19,23,56]\n",
        "type(idades)"
      ],
      "metadata": {
        "id": "x0qqt1Gxu1LC",
        "outputId": "91d1c39c-4be6-46ca-aab8-d8a97bf250a9",
        "colab": {
          "base_uri": "https://localhost:8080/"
        }
      },
      "execution_count": 10,
      "outputs": [
        {
          "output_type": "execute_result",
          "data": {
            "text/plain": [
              "list"
            ]
          },
          "metadata": {},
          "execution_count": 10
        }
      ]
    },
    {
      "cell_type": "code",
      "source": [
        "idades[3]"
      ],
      "metadata": {
        "id": "bGJH4Lmtu-AQ",
        "outputId": "6843af1c-7315-4302-c69a-be1964848b44",
        "colab": {
          "base_uri": "https://localhost:8080/"
        }
      },
      "execution_count": 13,
      "outputs": [
        {
          "output_type": "execute_result",
          "data": {
            "text/plain": [
              "19"
            ]
          },
          "metadata": {},
          "execution_count": 13
        }
      ]
    },
    {
      "cell_type": "code",
      "source": [
        "idades[0:3]"
      ],
      "metadata": {
        "id": "JOTjiDE8vO0Y",
        "outputId": "021cb702-591d-4d7f-dfd0-30ffd52c433d",
        "colab": {
          "base_uri": "https://localhost:8080/"
        }
      },
      "execution_count": 15,
      "outputs": [
        {
          "output_type": "execute_result",
          "data": {
            "text/plain": [
              "[12, 15, 17]"
            ]
          },
          "metadata": {},
          "execution_count": 15
        }
      ]
    },
    {
      "cell_type": "code",
      "source": [
        "idades[-1]"
      ],
      "metadata": {
        "id": "6IjatSYqvaFR",
        "outputId": "a2ba32e6-3492-481e-9553-ead9863a9ae4",
        "colab": {
          "base_uri": "https://localhost:8080/"
        }
      },
      "execution_count": 16,
      "outputs": [
        {
          "output_type": "execute_result",
          "data": {
            "text/plain": [
              "56"
            ]
          },
          "metadata": {},
          "execution_count": 16
        }
      ]
    },
    {
      "cell_type": "markdown",
      "source": [
        "## Laços e loops"
      ],
      "metadata": {
        "id": "i7jpeu5Tv_Jy"
      }
    },
    {
      "cell_type": "code",
      "source": [
        "def verify_if_you_can_drive(idade):\n",
        "  if idade >= 18:\n",
        "    print(f'Você tem {idade} anos de idade, tem permissão para dirigir')\n",
        "  else:\n",
        "    print(f'{idade} anos de idade, você não tem permissão para dirigir')\n",
        "\n",
        "\n",
        "for idade in idades:\n",
        "  verify_if_you_can_drive(idade)"
      ],
      "metadata": {
        "id": "dAsIjGh8wG5H",
        "outputId": "50ff9ef0-d9f8-4093-d00b-44446ce37a79",
        "colab": {
          "base_uri": "https://localhost:8080/"
        }
      },
      "execution_count": 18,
      "outputs": [
        {
          "output_type": "stream",
          "name": "stdout",
          "text": [
            "12 anos de idade, você não tem permissão para dirigir\n",
            "15 anos de idade, você não tem permissão para dirigir\n",
            "17 anos de idade, você não tem permissão para dirigir\n",
            "Você tem 19 anos de idade, tem permissão para dirigir\n",
            "Você tem 23 anos de idade, tem permissão para dirigir\n",
            "Você tem 56 anos de idade, tem permissão para dirigir\n"
          ]
        }
      ]
    },
    {
      "cell_type": "code",
      "source": [
        "def verify_if_you_can_drive_within_for(idade):\n",
        "  for idade in idades:\n",
        "    if idade >= 18:\n",
        "      print(f'Você tem {idade} anos de idade, tem permissão para dirigir')\n",
        "    else:\n",
        "      print(f'{idade} anos de idade, você não tem permissão para dirigir')\n",
        "\n",
        "\n",
        "verify_if_you_can_drive_within_for(idades)"
      ],
      "metadata": {
        "id": "sfEkw2uLxC4H",
        "outputId": "86011d16-08e8-4aa1-be01-c963ddacb234",
        "colab": {
          "base_uri": "https://localhost:8080/"
        }
      },
      "execution_count": 20,
      "outputs": [
        {
          "output_type": "stream",
          "name": "stdout",
          "text": [
            "12 anos de idade, você não tem permissão para dirigir\n",
            "15 anos de idade, você não tem permissão para dirigir\n",
            "17 anos de idade, você não tem permissão para dirigir\n",
            "Você tem 19 anos de idade, tem permissão para dirigir\n",
            "Você tem 23 anos de idade, tem permissão para dirigir\n",
            "Você tem 56 anos de idade, tem permissão para dirigir\n"
          ]
        }
      ]
    },
    {
      "cell_type": "markdown",
      "source": [
        "## Booleano"
      ],
      "metadata": {
        "id": "TYXNymhYxsV_"
      }
    },
    {
      "cell_type": "code",
      "source": [
        "idade = 18\n",
        "idade>=18"
      ],
      "metadata": {
        "id": "IQWmBXJPxws9",
        "outputId": "f9f51629-4e84-4335-b096-365a3c18f26b",
        "colab": {
          "base_uri": "https://localhost:8080/"
        }
      },
      "execution_count": 21,
      "outputs": [
        {
          "output_type": "execute_result",
          "data": {
            "text/plain": [
              "True"
            ]
          },
          "metadata": {},
          "execution_count": 21
        }
      ]
    },
    {
      "cell_type": "code",
      "source": [
        "idade = 15\n",
        "idade >= 18"
      ],
      "metadata": {
        "id": "a3raqm2rx2Ln",
        "outputId": "47d46cc3-75da-47bd-b129-b1fb6f9e954f",
        "colab": {
          "base_uri": "https://localhost:8080/"
        }
      },
      "execution_count": 22,
      "outputs": [
        {
          "output_type": "execute_result",
          "data": {
            "text/plain": [
              "False"
            ]
          },
          "metadata": {},
          "execution_count": 22
        }
      ]
    },
    {
      "cell_type": "code",
      "source": [
        "permissoes = []\n",
        "idades = [12,18,23,20,48,53]\n",
        "def verifica_se_pode_dirigir_boolean(idades, permissoes):\n",
        "  for idade in idades:\n",
        "    if idade>=18:\n",
        "      permissoes.append(True)\n",
        "    else:\n",
        "      permissoes.append(False)\n",
        "\n",
        "verifica_se_pode_dirigir_boolean(idades, permissoes)\n",
        "\n",
        "print(f'Lista permissões: {permissoes}')"
      ],
      "metadata": {
        "id": "kKSHvhoJx7Te",
        "outputId": "d4904a86-d611-4458-d450-65b15f96c1fe",
        "colab": {
          "base_uri": "https://localhost:8080/"
        }
      },
      "execution_count": 24,
      "outputs": [
        {
          "output_type": "stream",
          "name": "stdout",
          "text": [
            "Lista permissões: [False, True, True, True, True, True]\n"
          ]
        }
      ]
    },
    {
      "cell_type": "code",
      "source": [
        "for permissao in permissoes:\n",
        "  if permissao == True:\n",
        "    print('Tem permissão para dirigir')\n",
        "  else:\n",
        "    print('Não tem permissão para dirigir')"
      ],
      "metadata": {
        "id": "RLW6jGr6y01m",
        "outputId": "66239c5b-3b8e-491e-e27b-cf3a66e81c9c",
        "colab": {
          "base_uri": "https://localhost:8080/"
        }
      },
      "execution_count": 25,
      "outputs": [
        {
          "output_type": "stream",
          "name": "stdout",
          "text": [
            "Não tem permissão para dirigir\n",
            "Tem permissão para dirigir\n",
            "Tem permissão para dirigir\n",
            "Tem permissão para dirigir\n",
            "Tem permissão para dirigir\n",
            "Tem permissão para dirigir\n"
          ]
        }
      ]
    },
    {
      "cell_type": "markdown",
      "source": [
        "### **O que aprendemos**"
      ],
      "metadata": {
        "id": "QLorjAXXzi4A"
      }
    },
    {
      "cell_type": "markdown",
      "source": [
        "\n",
        "* Criamos nossa primeira lista no Python;\n",
        "* Aprendemos a utilizar a estrutura de repetição for;\n",
        "* Descobrimos o tipo booleano.\n",
        "\n",
        "\n",
        "\n"
      ],
      "metadata": {
        "id": "tUWRsO_VzmK4"
      }
    },
    {
      "cell_type": "code",
      "source": [
        ""
      ],
      "metadata": {
        "id": "7H94RyiNzytP"
      },
      "execution_count": null,
      "outputs": []
    }
  ]
}