{
  "nbformat": 4,
  "nbformat_minor": 0,
  "metadata": {
    "colab": {
      "name": "Python para Data Science: primeiros passos",
      "provenance": [],
      "authorship_tag": "ABX9TyM7SI9iU2kvpcGTaBRRWnzd",
      "include_colab_link": true
    },
    "kernelspec": {
      "name": "python3",
      "display_name": "Python 3"
    },
    "language_info": {
      "name": "python"
    }
  },
  "cells": [
    {
      "cell_type": "markdown",
      "metadata": {
        "id": "view-in-github",
        "colab_type": "text"
      },
      "source": [
        "<a href=\"https://colab.research.google.com/github/GuilhermeCarvalho312/Python-para-Data-Science-primeiros-passos/blob/main/Python_para_Data_Science_primeiros_passos.ipynb\" target=\"_parent\"><img src=\"https://colab.research.google.com/assets/colab-badge.svg\" alt=\"Open In Colab\"/></a>"
      ]
    },
    {
      "cell_type": "markdown",
      "source": [
        "## AULA - 1: Função e linguagem de alto nível"
      ],
      "metadata": {
        "id": "mj9At9XIfixD"
      }
    },
    {
      "cell_type": "code",
      "source": [
        "nome = 'Guilherme'\n",
        "idade = 20\n",
        "print(f'Meu nome é {nome} e eu tenho {idade} anos') #o f na frente serve pra conseguir colocar variavéis no meio."
      ],
      "metadata": {
        "colab": {
          "base_uri": "https://localhost:8080/"
        },
        "id": "q_iSiBgTgJ8n",
        "outputId": "01fd522f-b7b2-4608-b7bf-7575d3dafe5a"
      },
      "execution_count": 2,
      "outputs": [
        {
          "output_type": "stream",
          "name": "stdout",
          "text": [
            "Meu nome é Guilherme e eu tenho 20 anos\n"
          ]
        }
      ]
    },
    {
      "cell_type": "code",
      "source": [
        "def soma_numeros(a,b):\n",
        "  soma = a+b\n",
        "  return soma"
      ],
      "metadata": {
        "id": "KvRC-2IWhAZm"
      },
      "execution_count": 3,
      "outputs": []
    },
    {
      "cell_type": "code",
      "source": [
        "soma_numeros(2,3)"
      ],
      "metadata": {
        "colab": {
          "base_uri": "https://localhost:8080/"
        },
        "id": "8ywjo5WXhR5G",
        "outputId": "dad53ae4-e386-4c9a-8240-15b46479ef29"
      },
      "execution_count": 4,
      "outputs": [
        {
          "output_type": "execute_result",
          "data": {
            "text/plain": [
              "5"
            ]
          },
          "metadata": {},
          "execution_count": 4
        }
      ]
    },
    {
      "cell_type": "code",
      "source": [
        "def nome_completo():\n",
        " primeiro_nome = input('Qual seu primeiro nome? ')\n",
        " sobrenome = input('Qual seu sobrenome? ')\n",
        " nome_inteiro = primeiro_nome + ' ' + sobrenome\n",
        " print(nome_inteiro)\n",
        "\n",
        "nome_completo()"
      ],
      "metadata": {
        "colab": {
          "base_uri": "https://localhost:8080/"
        },
        "id": "0QZP3wBvjCTB",
        "outputId": "5d4d3106-d7d8-4716-fbae-820d9f28243f"
      },
      "execution_count": 5,
      "outputs": [
        {
          "output_type": "stream",
          "name": "stdout",
          "text": [
            "Qual seu primeiro nome? Guilherme\n",
            "Qual seu sobrenome? Carvalho\n",
            "Guilherme Carvalho\n"
          ]
        }
      ]
    },
    {
      "cell_type": "markdown",
      "source": [
        "Resumo aula 1:\n",
        "* Aprendemos o que são variáveis;\n",
        "* Criamos nossa primeira função;\n",
        "* Entendemos a diferença entre linguagens de alto e baixo nível."
      ],
      "metadata": {
        "id": "VNLtPc8Lj1EG"
      }
    },
    {
      "cell_type": "markdown",
      "source": [
        "# AULA - 2: Parâmetros, condicionais e conversão de tipos"
      ],
      "metadata": {
        "id": "MfLQU7-njwpe"
      }
    },
    {
      "cell_type": "code",
      "source": [
        "idade = 10\n",
        "\n",
        "def verifica_se_pode_dirigir(idade):\n",
        "  if idade >= 18:\n",
        "    print('Tem permissão para dirigir')\n",
        "  else:\n",
        "    print('Não tem permissão para dirigir')\n",
        "\n",
        "verifica_se_pode_dirigir(idade)"
      ],
      "metadata": {
        "colab": {
          "base_uri": "https://localhost:8080/"
        },
        "id": "jtjqHjAGjz7e",
        "outputId": "349627d9-fccc-4aad-8af7-2c6e0fd5029a"
      },
      "execution_count": 6,
      "outputs": [
        {
          "output_type": "stream",
          "name": "stdout",
          "text": [
            "Não tem permissão para dirigir\n"
          ]
        }
      ]
    },
    {
      "cell_type": "code",
      "source": [
        "def verifica_se_pode_dirigir_sem_parametros():\n",
        "  idade = input('Qual sua idade? ')\n",
        "  idade = int(idade)\n",
        "  if idade >= 18:\n",
        "    print('Tem permissão para dirigir')\n",
        "  else:\n",
        "    print('Não tem permissão para dirigir')\n",
        "\n",
        "verifica_se_pode_dirigir_sem_parametros()"
      ],
      "metadata": {
        "colab": {
          "base_uri": "https://localhost:8080/"
        },
        "id": "PQPYxBW6tIXm",
        "outputId": "5ebeaddd-260c-4cb7-a8cf-a58a058ece4a"
      },
      "execution_count": 7,
      "outputs": [
        {
          "output_type": "stream",
          "name": "stdout",
          "text": [
            "Qual sua idade? 20\n",
            "Tem permissão para dirigir\n"
          ]
        }
      ]
    },
    {
      "cell_type": "markdown",
      "source": [
        "Resumo aula 2:\n",
        "* Criamos uma função que recebe um parâmetro;\n",
        "* Aprendemos a usar as condicionais if e else;\n",
        "* Convertemos a string (str) digitando através do teclado em um valor inteiro (int)."
      ],
      "metadata": {
        "id": "uPQpUrsYtXwV"
      }
    },
    {
      "cell_type": "markdown",
      "source": [
        "# AULA - 3:Lista, repetições e o tipo booleano \n"
      ],
      "metadata": {
        "id": "tIw2prH5t67Y"
      }
    },
    {
      "cell_type": "markdown",
      "source": [
        "## Listas"
      ],
      "metadata": {
        "id": "UNlw4qaGv3Ih"
      }
    },
    {
      "cell_type": "code",
      "source": [
        "idade = 23\n",
        "type(idade)"
      ],
      "metadata": {
        "colab": {
          "base_uri": "https://localhost:8080/"
        },
        "id": "c8lXYmgOuBYy",
        "outputId": "f9e83c2d-2459-42e1-a8d8-2987c7f919e3"
      },
      "execution_count": 9,
      "outputs": [
        {
          "output_type": "execute_result",
          "data": {
            "text/plain": [
              "int"
            ]
          },
          "metadata": {},
          "execution_count": 9
        }
      ]
    },
    {
      "cell_type": "code",
      "source": [
        "idades = [12,15,17,19,23,56]\n",
        "type(idades)"
      ],
      "metadata": {
        "colab": {
          "base_uri": "https://localhost:8080/"
        },
        "id": "x0qqt1Gxu1LC",
        "outputId": "91d1c39c-4be6-46ca-aab8-d8a97bf250a9"
      },
      "execution_count": 10,
      "outputs": [
        {
          "output_type": "execute_result",
          "data": {
            "text/plain": [
              "list"
            ]
          },
          "metadata": {},
          "execution_count": 10
        }
      ]
    },
    {
      "cell_type": "code",
      "source": [
        "idades[3]"
      ],
      "metadata": {
        "colab": {
          "base_uri": "https://localhost:8080/"
        },
        "id": "bGJH4Lmtu-AQ",
        "outputId": "6843af1c-7315-4302-c69a-be1964848b44"
      },
      "execution_count": 13,
      "outputs": [
        {
          "output_type": "execute_result",
          "data": {
            "text/plain": [
              "19"
            ]
          },
          "metadata": {},
          "execution_count": 13
        }
      ]
    },
    {
      "cell_type": "code",
      "source": [
        "idades[0:3]"
      ],
      "metadata": {
        "colab": {
          "base_uri": "https://localhost:8080/"
        },
        "id": "JOTjiDE8vO0Y",
        "outputId": "021cb702-591d-4d7f-dfd0-30ffd52c433d"
      },
      "execution_count": 15,
      "outputs": [
        {
          "output_type": "execute_result",
          "data": {
            "text/plain": [
              "[12, 15, 17]"
            ]
          },
          "metadata": {},
          "execution_count": 15
        }
      ]
    },
    {
      "cell_type": "code",
      "source": [
        "idades[-1]"
      ],
      "metadata": {
        "colab": {
          "base_uri": "https://localhost:8080/"
        },
        "id": "6IjatSYqvaFR",
        "outputId": "a2ba32e6-3492-481e-9553-ead9863a9ae4"
      },
      "execution_count": 16,
      "outputs": [
        {
          "output_type": "execute_result",
          "data": {
            "text/plain": [
              "56"
            ]
          },
          "metadata": {},
          "execution_count": 16
        }
      ]
    },
    {
      "cell_type": "markdown",
      "source": [
        "## Laços e loops"
      ],
      "metadata": {
        "id": "i7jpeu5Tv_Jy"
      }
    },
    {
      "cell_type": "code",
      "source": [
        "def verify_if_you_can_drive(idade):\n",
        "  if idade >= 18:\n",
        "    print(f'Você tem {idade} anos de idade, tem permissão para dirigir')\n",
        "  else:\n",
        "    print(f'{idade} anos de idade, você não tem permissão para dirigir')\n",
        "\n",
        "\n",
        "for idade in idades:\n",
        "  verify_if_you_can_drive(idade)"
      ],
      "metadata": {
        "colab": {
          "base_uri": "https://localhost:8080/"
        },
        "id": "dAsIjGh8wG5H",
        "outputId": "50ff9ef0-d9f8-4093-d00b-44446ce37a79"
      },
      "execution_count": 18,
      "outputs": [
        {
          "output_type": "stream",
          "name": "stdout",
          "text": [
            "12 anos de idade, você não tem permissão para dirigir\n",
            "15 anos de idade, você não tem permissão para dirigir\n",
            "17 anos de idade, você não tem permissão para dirigir\n",
            "Você tem 19 anos de idade, tem permissão para dirigir\n",
            "Você tem 23 anos de idade, tem permissão para dirigir\n",
            "Você tem 56 anos de idade, tem permissão para dirigir\n"
          ]
        }
      ]
    },
    {
      "cell_type": "code",
      "source": [
        "def verify_if_you_can_drive_within_for(idade):\n",
        "  for idade in idades:\n",
        "    if idade >= 18:\n",
        "      print(f'Você tem {idade} anos de idade, tem permissão para dirigir')\n",
        "    else:\n",
        "      print(f'{idade} anos de idade, você não tem permissão para dirigir')\n",
        "\n",
        "\n",
        "verify_if_you_can_drive_within_for(idades)"
      ],
      "metadata": {
        "colab": {
          "base_uri": "https://localhost:8080/"
        },
        "id": "sfEkw2uLxC4H",
        "outputId": "86011d16-08e8-4aa1-be01-c963ddacb234"
      },
      "execution_count": 20,
      "outputs": [
        {
          "output_type": "stream",
          "name": "stdout",
          "text": [
            "12 anos de idade, você não tem permissão para dirigir\n",
            "15 anos de idade, você não tem permissão para dirigir\n",
            "17 anos de idade, você não tem permissão para dirigir\n",
            "Você tem 19 anos de idade, tem permissão para dirigir\n",
            "Você tem 23 anos de idade, tem permissão para dirigir\n",
            "Você tem 56 anos de idade, tem permissão para dirigir\n"
          ]
        }
      ]
    },
    {
      "cell_type": "markdown",
      "source": [
        "## Booleano"
      ],
      "metadata": {
        "id": "TYXNymhYxsV_"
      }
    },
    {
      "cell_type": "code",
      "source": [
        "idade = 18\n",
        "idade>=18"
      ],
      "metadata": {
        "colab": {
          "base_uri": "https://localhost:8080/"
        },
        "id": "IQWmBXJPxws9",
        "outputId": "f9f51629-4e84-4335-b096-365a3c18f26b"
      },
      "execution_count": 21,
      "outputs": [
        {
          "output_type": "execute_result",
          "data": {
            "text/plain": [
              "True"
            ]
          },
          "metadata": {},
          "execution_count": 21
        }
      ]
    },
    {
      "cell_type": "code",
      "source": [
        "idade = 15\n",
        "idade >= 18"
      ],
      "metadata": {
        "colab": {
          "base_uri": "https://localhost:8080/"
        },
        "id": "a3raqm2rx2Ln",
        "outputId": "47d46cc3-75da-47bd-b129-b1fb6f9e954f"
      },
      "execution_count": 22,
      "outputs": [
        {
          "output_type": "execute_result",
          "data": {
            "text/plain": [
              "False"
            ]
          },
          "metadata": {},
          "execution_count": 22
        }
      ]
    },
    {
      "cell_type": "code",
      "source": [
        "permissoes = []\n",
        "idades = [12,18,23,20,48,53]\n",
        "def verifica_se_pode_dirigir_boolean(idades, permissoes):\n",
        "  for idade in idades:\n",
        "    if idade>=18:\n",
        "      permissoes.append(True)\n",
        "    else:\n",
        "      permissoes.append(False)\n",
        "\n",
        "verifica_se_pode_dirigir_boolean(idades, permissoes)\n",
        "\n",
        "print(f'Lista permissões: {permissoes}')"
      ],
      "metadata": {
        "colab": {
          "base_uri": "https://localhost:8080/"
        },
        "id": "kKSHvhoJx7Te",
        "outputId": "d4904a86-d611-4458-d450-65b15f96c1fe"
      },
      "execution_count": 24,
      "outputs": [
        {
          "output_type": "stream",
          "name": "stdout",
          "text": [
            "Lista permissões: [False, True, True, True, True, True]\n"
          ]
        }
      ]
    },
    {
      "cell_type": "code",
      "source": [
        "for permissao in permissoes:\n",
        "  if permissao == True:\n",
        "    print('Tem permissão para dirigir')\n",
        "  else:\n",
        "    print('Não tem permissão para dirigir')"
      ],
      "metadata": {
        "colab": {
          "base_uri": "https://localhost:8080/"
        },
        "id": "RLW6jGr6y01m",
        "outputId": "3c6cae51-8451-4e18-9b07-814a1cd0045e"
      },
      "execution_count": 29,
      "outputs": [
        {
          "output_type": "stream",
          "name": "stdout",
          "text": [
            "Não tem permissão para dirigir\n",
            "Tem permissão para dirigir\n",
            "Tem permissão para dirigir\n",
            "Tem permissão para dirigir\n",
            "Tem permissão para dirigir\n",
            "Tem permissão para dirigir\n"
          ]
        }
      ]
    },
    {
      "cell_type": "markdown",
      "source": [
        "### **O que aprendemos**"
      ],
      "metadata": {
        "id": "QLorjAXXzi4A"
      }
    },
    {
      "cell_type": "markdown",
      "source": [
        "\n",
        "* Criamos nossa primeira lista no Python;\n",
        "* Aprendemos a utilizar a estrutura de repetição for;\n",
        "* Descobrimos o tipo booleano.\n",
        "\n",
        "\n",
        "\n"
      ],
      "metadata": {
        "id": "tUWRsO_VzmK4"
      }
    },
    {
      "cell_type": "markdown",
      "source": [
        "# AULA - 4: o Sistema de imports"
      ],
      "metadata": {
        "id": "HdNws34b0jzo"
      }
    },
    {
      "cell_type": "code",
      "source": [
        "lista = ['Guilherme', 20, True, '25']\n",
        "for elemento in lista:\n",
        "  print(f'O elemento {elemento} é do tipo: ', type(elemento))\n"
      ],
      "metadata": {
        "id": "8djlmIuP0mHe",
        "outputId": "f4b0428e-ddaf-424f-eec0-200b12dd3a20",
        "colab": {
          "base_uri": "https://localhost:8080/"
        }
      },
      "execution_count": 30,
      "outputs": [
        {
          "output_type": "stream",
          "name": "stdout",
          "text": [
            "O elemento Guilherme é do tipo:  <class 'str'>\n",
            "O elemento 20 é do tipo:  <class 'int'>\n",
            "O elemento True é do tipo:  <class 'bool'>\n",
            "O elemento 25 é do tipo:  <class 'str'>\n"
          ]
        }
      ]
    },
    {
      "cell_type": "code",
      "source": [
        "from random import randrange, seed"
      ],
      "metadata": {
        "id": "6MEaJVfj1YuV"
      },
      "execution_count": 41,
      "outputs": []
    },
    {
      "cell_type": "code",
      "source": [
        "seed(10)"
      ],
      "metadata": {
        "id": "b1CxJIRF3Oud"
      },
      "execution_count": 42,
      "outputs": []
    },
    {
      "cell_type": "code",
      "source": [
        "randrange(0,11)"
      ],
      "metadata": {
        "id": "WWwHrOvd10Ce",
        "outputId": "6984b084-6659-49b4-dc4d-6d2b32daf54a",
        "colab": {
          "base_uri": "https://localhost:8080/"
        }
      },
      "execution_count": 37,
      "outputs": [
        {
          "output_type": "execute_result",
          "data": {
            "text/plain": [
              "6"
            ]
          },
          "metadata": {},
          "execution_count": 37
        }
      ]
    },
    {
      "cell_type": "code",
      "source": [
        "notas_matematica = []\n",
        "\n",
        "for nota in range(8):\n",
        "  notas_matematica.append(randrange(0,11))\n",
        "\n",
        "\n",
        "print(notas_matematica)\n",
        "\n",
        "len(notas_matematica)"
      ],
      "metadata": {
        "id": "i60YC1bW2CpO",
        "outputId": "bb45b71b-383e-4214-d2cc-77bd90ccd205",
        "colab": {
          "base_uri": "https://localhost:8080/"
        }
      },
      "execution_count": 40,
      "outputs": [
        {
          "output_type": "stream",
          "name": "stdout",
          "text": [
            "[7, 9, 7, 2, 7, 1, 10, 10]\n"
          ]
        },
        {
          "output_type": "execute_result",
          "data": {
            "text/plain": [
              "8"
            ]
          },
          "metadata": {},
          "execution_count": 40
        }
      ]
    },
    {
      "cell_type": "markdown",
      "source": [
        "# AULA - 5: Plotando com matplotlib"
      ],
      "metadata": {
        "id": "ZxSpn2wd5ulz"
      }
    },
    {
      "cell_type": "code",
      "source": [
        "import matplotlib.pyplot as plt"
      ],
      "metadata": {
        "id": "k17-iLyi5z7M"
      },
      "execution_count": 43,
      "outputs": []
    },
    {
      "cell_type": "code",
      "source": [
        "eixo_x = list(range(1,9))\n",
        "eixo_y = notas_matematica\n",
        "\n",
        "plt.plot(eixo_x, eixo_y, marker='o')\n",
        "plt.title('Notas de matemática') #Título do gráfico\n",
        "plt.xlabel('Provas')\n",
        "plt.ylabel(\"Notas\")\n",
        "plt.show() #Tiras as infromações extras"
      ],
      "metadata": {
        "id": "mXlaIWS26GyT",
        "outputId": "baf47cc6-4828-4701-aeaf-5da593d2f091",
        "colab": {
          "base_uri": "https://localhost:8080/",
          "height": 295
        }
      },
      "execution_count": 58,
      "outputs": [
        {
          "output_type": "display_data",
          "data": {
            "text/plain": [
              "<Figure size 432x288 with 1 Axes>"
            ],
            "image/png": "[encoded data removed]"
          },
          "metadata": {
            "needs_background": "light"
          }
        }
      ]
    },
    {
      "cell_type": "code",
      "source": [
        "notas_matematica"
      ],
      "metadata": {
        "id": "D9gy4sUt6imm",
        "outputId": "1f44dec1-5ee5-4f8c-910c-e2bc7fba99ce",
        "colab": {
          "base_uri": "https://localhost:8080/"
        }
      },
      "execution_count": 59,
      "outputs": [
        {
          "output_type": "execute_result",
          "data": {
            "text/plain": [
              "[7, 9, 7, 2, 7, 1, 10, 10]"
            ]
          },
          "metadata": {},
          "execution_count": 59
        }
      ]
    },
    {
      "cell_type": "code",
      "source": [
        "notas_matematica = ['Matemática',8,7,6,6,7,7,8,10]\n",
        "notas_portugues = ['Português',9,9,9,8,5,6,8,5]\n",
        "notas_geografia = ['Geografia',10,10,6,7,7,7,8,7]\n",
        "\n",
        "notas = [notas_matematica, notas_portugues, notas_geografia]\n",
        "\n",
        "for nota in notas:\n",
        "  x = list(range(1,9))\n",
        "  y = nota[1:]\n",
        "  plt.plot(x, y, marker='o')\n",
        "  plt.xlabel('Provas')\n",
        "  plt.ylabel('Notas')\n",
        "  plt.title(nota[0])\n",
        "  plt.show()"
      ],
      "metadata": {
        "id": "-eO9k6vd8Lrz",
        "outputId": "723c4e94-bcaa-4192-8f17-2d84a9fbdad2",
        "colab": {
          "base_uri": "https://localhost:8080/",
          "height": 851
        }
      },
      "execution_count": 80,
      "outputs": [
        {
          "output_type": "display_data",
          "data": {
            "text/plain": [
              "<Figure size 432x288 with 1 Axes>"
            ],
            "image/png": "[encoded data removed]"
          },
          "metadata": {
            "needs_background": "light"
          }
        },
        {
          "output_type": "display_data",
          "data": {
            "text/plain": [
              "<Figure size 432x288 with 1 Axes>"
            ],
            "image/png": "[encoded data removed]"
          },
          "metadata": {
            "needs_background": "light"
          }
        },
        {
          "output_type": "display_data",
          "data": {
            "text/plain": [
              "<Figure size 432x288 with 1 Axes>"
            ],
            "image/png": "[encoded data removed]"
          },
          "metadata": {
            "needs_background": "light"
          }
        }
      ]
    },
    {
      "cell_type": "markdown",
      "source": [
        "## ***O que aprendemos***"
      ],
      "metadata": {
        "id": "nXWirmqD7zTy"
      }
    },
    {
      "cell_type": "markdown",
      "source": [
        "\n",
        "\n",
        "*   Aprendemos como importar a \"Matplotlib\" conforme a convenção como \"plt\";\n",
        "*    Vimos que é possível criar listas a partir do código \"range\";\n",
        "* Aprendemos como criar gráficos, definindo título, rótulos e marcador, além de ocultar outros detalhes indesejáveis.\n",
        "\n"
      ],
      "metadata": {
        "id": "8Y-P2EHZ73fD"
      }
    },
    {
      "cell_type": "code",
      "source": [
        ""
      ],
      "metadata": {
        "id": "3UN1W8ox-EXT"
      },
      "execution_count": null,
      "outputs": []
    }
  ]
}